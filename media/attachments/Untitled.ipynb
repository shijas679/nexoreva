{
 "cells": [
  {
   "cell_type": "code",
   "execution_count": 1,
   "id": "82ee48d1-106f-47a3-8f38-4ef715bbac00",
   "metadata": {},
   "outputs": [
    {
     "name": "stdout",
     "output_type": "stream",
     "text": [
      "helllo\n"
     ]
    }
   ],
   "source": [
    "print(\"helllo\")"
   ]
  },
  {
   "cell_type": "code",
   "execution_count": 2,
   "id": "6ae1f425-21fa-4b23-aa25-292328e29798",
   "metadata": {},
   "outputs": [
    {
     "name": "stdout",
     "output_type": "stream",
     "text": [
      "None\n"
     ]
    }
   ],
   "source": [
    "a = 20\n",
    "error_message = None\n",
    "if a > 10:\n",
    "    error_message = \"invalid creitions\"\n",
    "if er    "
   ]
  },
  {
   "cell_type": "code",
   "execution_count": null,
   "id": "70bc7715-ffec-4e8b-adc7-101c40b7427c",
   "metadata": {},
   "outputs": [],
   "source": []
  }
 ],
 "metadata": {
  "kernelspec": {
   "display_name": "Python 3 (ipykernel)",
   "language": "python",
   "name": "python3"
  },
  "language_info": {
   "codemirror_mode": {
    "name": "ipython",
    "version": 3
   },
   "file_extension": ".py",
   "mimetype": "text/x-python",
   "name": "python",
   "nbconvert_exporter": "python",
   "pygments_lexer": "ipython3",
   "version": "3.13.3"
  }
 },
 "nbformat": 4,
 "nbformat_minor": 5
}
